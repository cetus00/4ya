{
 "cells": [
  {
   "cell_type": "code",
   "execution_count": null,
   "metadata": {
    "collapsed": false
   },
   "outputs": [],
   "source": [
    "import pandas as pd\n",
    "import numpy as np\n",
    "\n",
    "# отключим предупреждения Anaconda\n",
    "import warnings\n",
    "warnings.simplefilter('ignore')\n",
    "\n",
    "import random\n",
    "\n",
    "from scipy import stats\n",
    "import seaborn as sns\n",
    "\n",
    "from IPython.display import display\n",
    "from collections import Counter\n",
    "\n",
    "%matplotlib inline\n",
    "import matplotlib\n",
    "import matplotlib.pyplot as plt\n",
    "matplotlib.pyplot.style.use = \"default\"\n",
    "font = {\"family\": \"Verdana\", \n",
    "       \"weight\": \"normal\"}\n",
    "\n",
    "\n",
    "from matplotlib import rc\n",
    "rc(\"font\", **font)\n",
    "\n",
    "matplotlib.rcParams[\"figure.figsize\"]=(30.0,20.0)\n",
    "matplotlib.rcParams[\"font.size\"]=(40)\n",
    "\n",
    "from scipy.spatial.distance import cdist as cd\n"
   ]
  },
  {
   "cell_type": "code",
   "execution_count": null,
   "metadata": {
    "collapsed": false
   },
   "outputs": [],
   "source": [
    "from sklearn.decomposition import PCA\n",
    "from sklearn.metrics import accuracy_score\n",
    "\n",
    "from scipy import misc\n",
    "import pydotplus\n",
    "from sklearn.tree import DecisionTreeClassifier, export_graphviz\n",
    "from PIL import Image"
   ]
  },
  {
   "cell_type": "code",
   "execution_count": null,
   "metadata": {
    "collapsed": true
   },
   "outputs": [],
   "source": [
    "calls_table = pd.read_csv(r\"C:\\Users\\111\\Documents\\work\\pyhton\\calls.csv\", sep = \";\")\n",
    "valid_rows = pd.read_csv(r\"C:\\Users\\111\\Documents\\work\\pyhton\\valid_rows.csv\", sep = \";\", header=None)\n",
    "\n",
    "df = calls_table[calls_table[\"ID\"].isin(valid_rows[0])]\n",
    "display(df.shape, df.head(10))\n"
   ]
  },
  {
   "cell_type": "code",
   "execution_count": null,
   "metadata": {
    "collapsed": true
   },
   "outputs": [],
   "source": [
    "target_vars_list = [x for x in df.columns if x.startswith(\"tar_\")]\n",
    "predictors_list = [y for y in df.columns if \"predic_\" in y]"
   ]
  },
  {
   "cell_type": "code",
   "execution_count": null,
   "metadata": {
    "collapsed": true
   },
   "outputs": [],
   "source": [
    "df.dropna(axis=0,how=\"any\", inplace = True)"
   ]
  },
  {
   "cell_type": "code",
   "execution_count": null,
   "metadata": {
    "collapsed": true
   },
   "outputs": [],
   "source": [
    "pred = \"predic_001\"\n",
    "plt.scatter(df.index,sorted(df[pred]))\n",
    "axis = plt.gca()\n",
    "axis.set_ylim([df[pred].min()-0.2,df[pred].max()+0.2])\n"
   ]
  },
  {
   "cell_type": "code",
   "execution_count": null,
   "metadata": {
    "collapsed": true
   },
   "outputs": [],
   "source": [
    "df[predictors_list].hist(bins=60,color = \"m\")\n",
    "plt.show()"
   ]
  },
  {
   "cell_type": "code",
   "execution_count": null,
   "metadata": {
    "collapsed": true
   },
   "outputs": [],
   "source": [
    "df[target_vars_list].hist(bins=60,color = \"m\")\n",
    "plt.show()"
   ]
  },
  {
   "cell_type": "markdown",
   "metadata": {},
   "source": [
    "## Feature selection"
   ]
  },
  {
   "cell_type": "code",
   "execution_count": null,
   "metadata": {
    "collapsed": true
   },
   "outputs": [],
   "source": [
    "data_FS = df.copy(deep=True)\n",
    "for i in data_FS[target_vars_list]:\n",
    "    data_FS[i] = pd.cut(data_FS[i], bins=10,labels=False,right=True,retbins=False,precision=3, include_lowest=False)"
   ]
  },
  {
   "cell_type": "code",
   "execution_count": null,
   "metadata": {
    "collapsed": true
   },
   "outputs": [],
   "source": [
    "y = data_FS[\"predic_001\"]\n",
    "X = data_FS[predictors_list]\n",
    "\n",
    "df = DecisionTreeClassifier(criterion=\"gini\", min_samples_split = 15,max_features = \"sqrt\",presort=True)\n",
    "\n",
    "dt.fit(X,y)\n",
    "class_names = [\"0\",\"1\",\"2\",\"3\",\"4\",\"5\",\"6\",\"7\",\"8\",\"9\"]\n",
    "importances = dt.feature_impotances_\n",
    "std = np.std(importances,axis=0)\n",
    "val = pd.DataFrame(importances,index=predictors_list)\n",
    "val.sort(columns=0,ascending=True)\n",
    "\n",
    "a = val[val.values==0]\n",
    "b = val[val.values!=0]\n",
    "\n",
    "a.shape,b.shape"
   ]
  },
  {
   "cell_type": "markdown",
   "metadata": {},
   "source": [
    "## PCA"
   ]
  },
  {
   "cell_type": "code",
   "execution_count": null,
   "metadata": {
    "collapsed": true
   },
   "outputs": [],
   "source": [
    "pca=PCA(n_components=17)"
   ]
  },
  {
   "cell_type": "code",
   "execution_count": null,
   "metadata": {
    "collapsed": true
   },
   "outputs": [],
   "source": [
    "pca.fit(df[predictors_list])"
   ]
  },
  {
   "cell_type": "code",
   "execution_count": null,
   "metadata": {
    "collapsed": false
   },
   "outputs": [],
   "source": [
    "fig = plt.figure(figsize=(20,15))\n",
    "ax = fig.add_subplot(1,1,1)\n",
    "plt.clf()\n",
    "plt.plot(pca.explained_variance_,linewidth=2)\n",
    "plt.axis(\"tight\")\n",
    "plt.xlabel(\"n_components\")\n",
    "plt.ylabel(\"explained_variance_\")\n",
    "plt.grad()\n",
    "ax.set_xticks(np.arange(0,6,1))\n",
    "plt.show()"
   ]
  },
  {
   "cell_type": "markdown",
   "metadata": {},
   "source": [
    "## Диаграмма рессеяния"
   ]
  },
  {
   "cell_type": "code",
   "execution_count": null,
   "metadata": {
    "collapsed": true
   },
   "outputs": [],
   "source": [
    "cols = [\"predic_001\",\"predic_002\",\"predic_003\",\"tar_01\",\"tar_02\",\"tar_03\"]\n",
    "sns_plot = sns.pairplot(df[cols])\n",
    "sns_plot.savefig(\"paiplot.png\")"
   ]
  },
  {
   "cell_type": "code",
   "execution_count": null,
   "metadata": {
    "collapsed": true
   },
   "outputs": [],
   "source": [
    "from scipy.stats.stats import pearsonr\n",
    "\n",
    "correl = []\n",
    "\n",
    "for tar in target_vars_list:\n",
    "    for pred in predictors_list:\n",
    "        pears_cor,p_value = pearsonr(df[tar],df[pred])\n",
    "        if p_value<0.05 and pears_cor>0.3:\n",
    "            if pred not in correl:\n",
    "                correl.append(pred)\n",
    "            print(\"predictor: \",pred,\"target:\",tar,\"Pearson_corr: \",pears_cor,\"P-value: \"p_value)"
   ]
  }
 ],
 "metadata": {
  "kernelspec": {
   "display_name": "Python 2",
   "language": "python",
   "name": "python2"
  },
  "language_info": {
   "codemirror_mode": {
    "name": "ipython",
    "version": 2
   },
   "file_extension": ".py",
   "mimetype": "text/x-python",
   "name": "python",
   "nbconvert_exporter": "python",
   "pygments_lexer": "ipython2",
   "version": "2.7.13"
  }
 },
 "nbformat": 4,
 "nbformat_minor": 0
}
